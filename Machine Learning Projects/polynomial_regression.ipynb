{
 "cells": [
  {
   "cell_type": "markdown",
   "id": "71e100aa",
   "metadata": {},
   "source": [
    "### Predict house price in real estate data"
   ]
  },
  {
   "cell_type": "markdown",
   "id": "d4b4cd3e",
   "metadata": {},
   "source": [
    "#### import necessary modules and read the input file"
   ]
  },
  {
   "cell_type": "code",
   "execution_count": 1,
   "id": "bc673e47",
   "metadata": {},
   "outputs": [],
   "source": [
    "import pandas as pd\n",
    "import numpy as np\n",
    "import matplotlib.pyplot as plt\n",
    "import seaborn as sns\n",
    "import statsmodels.api as sm\n",
    "import datetime\n",
    "from sklearn.model_selection import train_test_split\n",
    "from sklearn.preprocessing import PolynomialFeatures, StandardScaler\n",
    "from sklearn.linear_model import LinearRegression\n",
    "from sklearn import metrics\n",
    "\n",
    "from sklearn.metrics import mean_squared_error\n",
    "from sklearn.pipeline import make_pipeline\n",
    "\n",
    "import warnings\n",
    "warnings.filterwarnings('ignore')"
   ]
  },
  {
   "cell_type": "code",
   "execution_count": 2,
   "id": "23245a00",
   "metadata": {},
   "outputs": [],
   "source": [
    "real_estate_data = pd.read_csv(\"Real estate_polynomial_regression.csv\")"
   ]
  },
  {
   "cell_type": "code",
   "execution_count": 3,
   "id": "d0ade49e",
   "metadata": {},
   "outputs": [
    {
     "data": {
      "text/html": [
       "<div>\n",
       "<style scoped>\n",
       "    .dataframe tbody tr th:only-of-type {\n",
       "        vertical-align: middle;\n",
       "    }\n",
       "\n",
       "    .dataframe tbody tr th {\n",
       "        vertical-align: top;\n",
       "    }\n",
       "\n",
       "    .dataframe thead th {\n",
       "        text-align: right;\n",
       "    }\n",
       "</style>\n",
       "<table border=\"1\" class=\"dataframe\">\n",
       "  <thead>\n",
       "    <tr style=\"text-align: right;\">\n",
       "      <th></th>\n",
       "      <th>No</th>\n",
       "      <th>transaction date</th>\n",
       "      <th>house age</th>\n",
       "      <th>distance to the nearest MRT station</th>\n",
       "      <th>number of convenience stores</th>\n",
       "      <th>latitude</th>\n",
       "      <th>longitude</th>\n",
       "      <th>house price of unit area</th>\n",
       "    </tr>\n",
       "  </thead>\n",
       "  <tbody>\n",
       "    <tr>\n",
       "      <th>0</th>\n",
       "      <td>1</td>\n",
       "      <td>2012.917</td>\n",
       "      <td>32.0</td>\n",
       "      <td>84.87882</td>\n",
       "      <td>10</td>\n",
       "      <td>24.98298</td>\n",
       "      <td>121.54024</td>\n",
       "      <td>37.9</td>\n",
       "    </tr>\n",
       "    <tr>\n",
       "      <th>1</th>\n",
       "      <td>2</td>\n",
       "      <td>2012.917</td>\n",
       "      <td>19.5</td>\n",
       "      <td>306.59470</td>\n",
       "      <td>9</td>\n",
       "      <td>24.98034</td>\n",
       "      <td>121.53951</td>\n",
       "      <td>42.2</td>\n",
       "    </tr>\n",
       "    <tr>\n",
       "      <th>2</th>\n",
       "      <td>3</td>\n",
       "      <td>2013.583</td>\n",
       "      <td>13.3</td>\n",
       "      <td>561.98450</td>\n",
       "      <td>5</td>\n",
       "      <td>24.98746</td>\n",
       "      <td>121.54391</td>\n",
       "      <td>47.3</td>\n",
       "    </tr>\n",
       "    <tr>\n",
       "      <th>3</th>\n",
       "      <td>4</td>\n",
       "      <td>2013.500</td>\n",
       "      <td>13.3</td>\n",
       "      <td>561.98450</td>\n",
       "      <td>5</td>\n",
       "      <td>24.98746</td>\n",
       "      <td>121.54391</td>\n",
       "      <td>54.8</td>\n",
       "    </tr>\n",
       "    <tr>\n",
       "      <th>4</th>\n",
       "      <td>5</td>\n",
       "      <td>2012.833</td>\n",
       "      <td>5.0</td>\n",
       "      <td>390.56840</td>\n",
       "      <td>5</td>\n",
       "      <td>24.97937</td>\n",
       "      <td>121.54245</td>\n",
       "      <td>43.1</td>\n",
       "    </tr>\n",
       "  </tbody>\n",
       "</table>\n",
       "</div>"
      ],
      "text/plain": [
       "   No  transaction date  house age  distance to the nearest MRT station  \\\n",
       "0   1          2012.917       32.0                             84.87882   \n",
       "1   2          2012.917       19.5                            306.59470   \n",
       "2   3          2013.583       13.3                            561.98450   \n",
       "3   4          2013.500       13.3                            561.98450   \n",
       "4   5          2012.833        5.0                            390.56840   \n",
       "\n",
       "   number of convenience stores  latitude  longitude  house price of unit area  \n",
       "0                            10  24.98298  121.54024                      37.9  \n",
       "1                             9  24.98034  121.53951                      42.2  \n",
       "2                             5  24.98746  121.54391                      47.3  \n",
       "3                             5  24.98746  121.54391                      54.8  \n",
       "4                             5  24.97937  121.54245                      43.1  "
      ]
     },
     "execution_count": 3,
     "metadata": {},
     "output_type": "execute_result"
    }
   ],
   "source": [
    "real_estate_data.head()"
   ]
  },
  {
   "cell_type": "code",
   "execution_count": 4,
   "id": "bba83ba5",
   "metadata": {},
   "outputs": [
    {
     "name": "stdout",
     "output_type": "stream",
     "text": [
      "<class 'pandas.core.frame.DataFrame'>\n",
      "RangeIndex: 414 entries, 0 to 413\n",
      "Data columns (total 8 columns):\n",
      " #   Column                               Non-Null Count  Dtype  \n",
      "---  ------                               --------------  -----  \n",
      " 0   No                                   414 non-null    int64  \n",
      " 1   transaction date                     414 non-null    float64\n",
      " 2   house age                            414 non-null    float64\n",
      " 3   distance to the nearest MRT station  414 non-null    float64\n",
      " 4   number of convenience stores         414 non-null    int64  \n",
      " 5   latitude                             414 non-null    float64\n",
      " 6   longitude                            414 non-null    float64\n",
      " 7   house price of unit area             414 non-null    float64\n",
      "dtypes: float64(6), int64(2)\n",
      "memory usage: 26.0 KB\n"
     ]
    }
   ],
   "source": [
    "real_estate_data.info()"
   ]
  },
  {
   "cell_type": "code",
   "execution_count": 5,
   "id": "20bba2d6",
   "metadata": {},
   "outputs": [
    {
     "data": {
      "text/plain": [
       "Index(['No', 'transaction date', 'house age',\n",
       "       'distance to the nearest MRT station', 'number of convenience stores',\n",
       "       'latitude', 'longitude', 'house price of unit area'],\n",
       "      dtype='object')"
      ]
     },
     "execution_count": 5,
     "metadata": {},
     "output_type": "execute_result"
    }
   ],
   "source": [
    "real_estate_data.columns"
   ]
  },
  {
   "cell_type": "markdown",
   "id": "fec7c762",
   "metadata": {},
   "source": [
    "#### Drop columns which are not required, check for null values and treat them if required"
   ]
  },
  {
   "cell_type": "code",
   "execution_count": 6,
   "id": "83e0ff6c",
   "metadata": {},
   "outputs": [],
   "source": [
    "real_estate_data.drop(columns={'No','transaction date'}, inplace=True)"
   ]
  },
  {
   "cell_type": "code",
   "execution_count": 7,
   "id": "9e725be6",
   "metadata": {},
   "outputs": [
    {
     "data": {
      "text/plain": [
       "house age                              0\n",
       "distance to the nearest MRT station    0\n",
       "number of convenience stores           0\n",
       "latitude                               0\n",
       "longitude                              0\n",
       "house price of unit area               0\n",
       "dtype: int64"
      ]
     },
     "execution_count": 7,
     "metadata": {},
     "output_type": "execute_result"
    }
   ],
   "source": [
    "real_estate_data.isnull().sum()"
   ]
  },
  {
   "cell_type": "code",
   "execution_count": 8,
   "id": "d722541d",
   "metadata": {},
   "outputs": [
    {
     "data": {
      "text/html": [
       "<div>\n",
       "<style scoped>\n",
       "    .dataframe tbody tr th:only-of-type {\n",
       "        vertical-align: middle;\n",
       "    }\n",
       "\n",
       "    .dataframe tbody tr th {\n",
       "        vertical-align: top;\n",
       "    }\n",
       "\n",
       "    .dataframe thead th {\n",
       "        text-align: right;\n",
       "    }\n",
       "</style>\n",
       "<table border=\"1\" class=\"dataframe\">\n",
       "  <thead>\n",
       "    <tr style=\"text-align: right;\">\n",
       "      <th></th>\n",
       "      <th>house age</th>\n",
       "      <th>distance to the nearest MRT station</th>\n",
       "      <th>number of convenience stores</th>\n",
       "      <th>latitude</th>\n",
       "      <th>longitude</th>\n",
       "      <th>house price of unit area</th>\n",
       "    </tr>\n",
       "  </thead>\n",
       "  <tbody>\n",
       "    <tr>\n",
       "      <th>count</th>\n",
       "      <td>414.000000</td>\n",
       "      <td>414.000000</td>\n",
       "      <td>414.000000</td>\n",
       "      <td>414.000000</td>\n",
       "      <td>414.000000</td>\n",
       "      <td>414.000000</td>\n",
       "    </tr>\n",
       "    <tr>\n",
       "      <th>mean</th>\n",
       "      <td>17.712560</td>\n",
       "      <td>1083.885689</td>\n",
       "      <td>4.094203</td>\n",
       "      <td>24.969030</td>\n",
       "      <td>121.533361</td>\n",
       "      <td>37.980193</td>\n",
       "    </tr>\n",
       "    <tr>\n",
       "      <th>std</th>\n",
       "      <td>11.392485</td>\n",
       "      <td>1262.109595</td>\n",
       "      <td>2.945562</td>\n",
       "      <td>0.012410</td>\n",
       "      <td>0.015347</td>\n",
       "      <td>13.606488</td>\n",
       "    </tr>\n",
       "    <tr>\n",
       "      <th>min</th>\n",
       "      <td>0.000000</td>\n",
       "      <td>23.382840</td>\n",
       "      <td>0.000000</td>\n",
       "      <td>24.932070</td>\n",
       "      <td>121.473530</td>\n",
       "      <td>7.600000</td>\n",
       "    </tr>\n",
       "    <tr>\n",
       "      <th>25%</th>\n",
       "      <td>9.025000</td>\n",
       "      <td>289.324800</td>\n",
       "      <td>1.000000</td>\n",
       "      <td>24.963000</td>\n",
       "      <td>121.528085</td>\n",
       "      <td>27.700000</td>\n",
       "    </tr>\n",
       "    <tr>\n",
       "      <th>50%</th>\n",
       "      <td>16.100000</td>\n",
       "      <td>492.231300</td>\n",
       "      <td>4.000000</td>\n",
       "      <td>24.971100</td>\n",
       "      <td>121.538630</td>\n",
       "      <td>38.450000</td>\n",
       "    </tr>\n",
       "    <tr>\n",
       "      <th>75%</th>\n",
       "      <td>28.150000</td>\n",
       "      <td>1454.279000</td>\n",
       "      <td>6.000000</td>\n",
       "      <td>24.977455</td>\n",
       "      <td>121.543305</td>\n",
       "      <td>46.600000</td>\n",
       "    </tr>\n",
       "    <tr>\n",
       "      <th>max</th>\n",
       "      <td>43.800000</td>\n",
       "      <td>6488.021000</td>\n",
       "      <td>10.000000</td>\n",
       "      <td>25.014590</td>\n",
       "      <td>121.566270</td>\n",
       "      <td>117.500000</td>\n",
       "    </tr>\n",
       "  </tbody>\n",
       "</table>\n",
       "</div>"
      ],
      "text/plain": [
       "        house age  distance to the nearest MRT station  \\\n",
       "count  414.000000                           414.000000   \n",
       "mean    17.712560                          1083.885689   \n",
       "std     11.392485                          1262.109595   \n",
       "min      0.000000                            23.382840   \n",
       "25%      9.025000                           289.324800   \n",
       "50%     16.100000                           492.231300   \n",
       "75%     28.150000                          1454.279000   \n",
       "max     43.800000                          6488.021000   \n",
       "\n",
       "       number of convenience stores    latitude   longitude  \\\n",
       "count                    414.000000  414.000000  414.000000   \n",
       "mean                       4.094203   24.969030  121.533361   \n",
       "std                        2.945562    0.012410    0.015347   \n",
       "min                        0.000000   24.932070  121.473530   \n",
       "25%                        1.000000   24.963000  121.528085   \n",
       "50%                        4.000000   24.971100  121.538630   \n",
       "75%                        6.000000   24.977455  121.543305   \n",
       "max                       10.000000   25.014590  121.566270   \n",
       "\n",
       "       house price of unit area  \n",
       "count                414.000000  \n",
       "mean                  37.980193  \n",
       "std                   13.606488  \n",
       "min                    7.600000  \n",
       "25%                   27.700000  \n",
       "50%                   38.450000  \n",
       "75%                   46.600000  \n",
       "max                  117.500000  "
      ]
     },
     "execution_count": 8,
     "metadata": {},
     "output_type": "execute_result"
    }
   ],
   "source": [
    "real_estate_data.describe()"
   ]
  },
  {
   "cell_type": "code",
   "execution_count": 9,
   "id": "b195a65e",
   "metadata": {},
   "outputs": [
    {
     "name": "stdout",
     "output_type": "stream",
     "text": [
      "<class 'pandas.core.frame.DataFrame'>\n",
      "RangeIndex: 414 entries, 0 to 413\n",
      "Data columns (total 6 columns):\n",
      " #   Column                               Non-Null Count  Dtype  \n",
      "---  ------                               --------------  -----  \n",
      " 0   house age                            414 non-null    float64\n",
      " 1   distance to the nearest MRT station  414 non-null    float64\n",
      " 2   number of convenience stores         414 non-null    int64  \n",
      " 3   latitude                             414 non-null    float64\n",
      " 4   longitude                            414 non-null    float64\n",
      " 5   house price of unit area             414 non-null    float64\n",
      "dtypes: float64(5), int64(1)\n",
      "memory usage: 19.5 KB\n"
     ]
    }
   ],
   "source": [
    "real_estate_data.info()"
   ]
  },
  {
   "cell_type": "code",
   "execution_count": 10,
   "id": "8d3dbe70",
   "metadata": {},
   "outputs": [
    {
     "data": {
      "text/plain": [
       "<AxesSubplot:>"
      ]
     },
     "execution_count": 10,
     "metadata": {},
     "output_type": "execute_result"
    },
    {
     "data": {
      "image/png": "[encoded data removed]",
      "text/plain": [
       "<Figure size 640x480 with 2 Axes>"
      ]
     },
     "metadata": {},
     "output_type": "display_data"
    }
   ],
   "source": [
    "sns.heatmap(real_estate_data.corr(), annot=True,cmap=\"YlGnBu\")"
   ]
  },
  {
   "cell_type": "markdown",
   "id": "b9ff903d",
   "metadata": {},
   "source": [
    "#### The heatmap of correlation chart shows high negative correlation between house price and distance to the nearest MRT station, which is as expected. It also show strong correlation with number of convenience stores."
   ]
  },
  {
   "cell_type": "markdown",
   "id": "736995e6",
   "metadata": {},
   "source": [
    "#### Linear regression can't be applied on dataset with multicolinearity between independent variables. We can demonstrate the same by first applying linear regression on the data"
   ]
  },
  {
   "cell_type": "code",
   "execution_count": 11,
   "id": "acfe8dfc",
   "metadata": {},
   "outputs": [],
   "source": [
    "# Splitting variables\n",
    "\n",
    "X=real_estate_data.drop('house price of unit area', axis=1) # independent\n",
    "y=real_estate_data['number of convenience stores'] # dependent"
   ]
  },
  {
   "cell_type": "code",
   "execution_count": 12,
   "id": "d853cb82",
   "metadata": {},
   "outputs": [
    {
     "data": {
      "text/plain": [
       "(414, 5)"
      ]
     },
     "execution_count": 12,
     "metadata": {},
     "output_type": "execute_result"
    }
   ],
   "source": [
    "X.shape"
   ]
  },
  {
   "cell_type": "code",
   "execution_count": 13,
   "id": "fc5b706d",
   "metadata": {},
   "outputs": [
    {
     "data": {
      "text/plain": [
       "(414,)"
      ]
     },
     "execution_count": 13,
     "metadata": {},
     "output_type": "execute_result"
    }
   ],
   "source": [
    "y.shape"
   ]
  },
  {
   "cell_type": "markdown",
   "id": "b5723e4c",
   "metadata": {},
   "source": [
    "#### Linear Regression"
   ]
  },
  {
   "cell_type": "code",
   "execution_count": 14,
   "id": "04822ceb",
   "metadata": {},
   "outputs": [
    {
     "name": "stdout",
     "output_type": "stream",
     "text": [
      "                                 OLS Regression Results                                 \n",
      "========================================================================================\n",
      "Dep. Variable:     number of convenience stores   R-squared:                       1.000\n",
      "Model:                                      OLS   Adj. R-squared:                  1.000\n",
      "Method:                           Least Squares   F-statistic:                 7.711e+27\n",
      "Date:                          Sun, 06 Oct 2024   Prob (F-statistic):               0.00\n",
      "Time:                                  19:54:10   Log-Likelihood:                 11347.\n",
      "No. Observations:                           414   AIC:                        -2.268e+04\n",
      "Df Residuals:                               408   BIC:                        -2.266e+04\n",
      "Df Model:                                     5                                         \n",
      "Covariance Type:                      nonrobust                                         \n",
      "=======================================================================================================\n",
      "                                          coef    std err          t      P>|t|      [0.025      0.975]\n",
      "-------------------------------------------------------------------------------------------------------\n",
      "const                                9.095e-13   2.11e-10      0.004      0.997   -4.14e-10    4.16e-10\n",
      "house age                           -1.058e-16   1.33e-15     -0.080      0.936   -2.71e-15     2.5e-15\n",
      "distance to the nearest MRT station -3.659e-19   2.46e-17     -0.015      0.988   -4.87e-17     4.8e-17\n",
      "number of convenience stores            1.0000   6.47e-15   1.55e+14      0.000       1.000       1.000\n",
      "latitude                            -8.882e-16   1.53e-12     -0.001      1.000   -3.01e-12       3e-12\n",
      "longitude                            -9.77e-15   1.67e-12     -0.006      0.995    -3.3e-12    3.28e-12\n",
      "==============================================================================\n",
      "Omnibus:                       16.853   Durbin-Watson:                   0.000\n",
      "Prob(Omnibus):                  0.000   Jarque-Bera (JB):                8.136\n",
      "Skew:                           0.098   Prob(JB):                       0.0171\n",
      "Kurtosis:                       2.342   Cond. No.                     2.35e+07\n",
      "==============================================================================\n",
      "\n",
      "Notes:\n",
      "[1] Standard Errors assume that the covariance matrix of the errors is correctly specified.\n",
      "[2] The condition number is large, 2.35e+07. This might indicate that there are\n",
      "strong multicollinearity or other numerical problems.\n"
     ]
    }
   ],
   "source": [
    "X2 = sm.add_constant(X)\n",
    "est = sm.OLS(y, X2)\n",
    "est2 = est.fit()\n",
    "print(est2.summary())"
   ]
  },
  {
   "cell_type": "code",
   "execution_count": 15,
   "id": "750eed57",
   "metadata": {},
   "outputs": [],
   "source": [
    "X_linear_train, X_linear_test, y_linear_train, y_linear_test = train_test_split(X, y, test_size=0.3, random_state=101)"
   ]
  },
  {
   "cell_type": "code",
   "execution_count": 16,
   "id": "112d3d4c",
   "metadata": {},
   "outputs": [
    {
     "data": {
      "text/plain": [
       "LinearRegression()"
      ]
     },
     "execution_count": 16,
     "metadata": {},
     "output_type": "execute_result"
    }
   ],
   "source": [
    "model = LinearRegression()\n",
    "model.fit(X_linear_train, y_linear_train)"
   ]
  },
  {
   "cell_type": "code",
   "execution_count": 17,
   "id": "b7fc42c1",
   "metadata": {},
   "outputs": [
    {
     "data": {
      "text/html": [
       "<div>\n",
       "<style scoped>\n",
       "    .dataframe tbody tr th:only-of-type {\n",
       "        vertical-align: middle;\n",
       "    }\n",
       "\n",
       "    .dataframe tbody tr th {\n",
       "        vertical-align: top;\n",
       "    }\n",
       "\n",
       "    .dataframe thead th {\n",
       "        text-align: right;\n",
       "    }\n",
       "</style>\n",
       "<table border=\"1\" class=\"dataframe\">\n",
       "  <thead>\n",
       "    <tr style=\"text-align: right;\">\n",
       "      <th></th>\n",
       "      <th>Coedicients</th>\n",
       "    </tr>\n",
       "  </thead>\n",
       "  <tbody>\n",
       "    <tr>\n",
       "      <th>house age</th>\n",
       "      <td>-1.310343e-19</td>\n",
       "    </tr>\n",
       "    <tr>\n",
       "      <th>distance to the nearest MRT station</th>\n",
       "      <td>5.148628e-19</td>\n",
       "    </tr>\n",
       "    <tr>\n",
       "      <th>number of convenience stores</th>\n",
       "      <td>1.000000e+00</td>\n",
       "    </tr>\n",
       "    <tr>\n",
       "      <th>latitude</th>\n",
       "      <td>6.596508e-16</td>\n",
       "    </tr>\n",
       "    <tr>\n",
       "      <th>longitude</th>\n",
       "      <td>3.229477e-16</td>\n",
       "    </tr>\n",
       "  </tbody>\n",
       "</table>\n",
       "</div>"
      ],
      "text/plain": [
       "                                      Coedicients\n",
       "house age                           -1.310343e-19\n",
       "distance to the nearest MRT station  5.148628e-19\n",
       "number of convenience stores         1.000000e+00\n",
       "latitude                             6.596508e-16\n",
       "longitude                            3.229477e-16"
      ]
     },
     "execution_count": 17,
     "metadata": {},
     "output_type": "execute_result"
    }
   ],
   "source": [
    "pd.DataFrame(model.coef_, X.columns, columns=['Coedicients'])"
   ]
  },
  {
   "cell_type": "code",
   "execution_count": 18,
   "id": "28868af1",
   "metadata": {},
   "outputs": [],
   "source": [
    "y_linear_pred = model.predict(X_linear_test)"
   ]
  },
  {
   "cell_type": "code",
   "execution_count": 19,
   "id": "c56dfd87",
   "metadata": {},
   "outputs": [
    {
     "data": {
      "text/html": [
       "<div>\n",
       "<style scoped>\n",
       "    .dataframe tbody tr th:only-of-type {\n",
       "        vertical-align: middle;\n",
       "    }\n",
       "\n",
       "    .dataframe tbody tr th {\n",
       "        vertical-align: top;\n",
       "    }\n",
       "\n",
       "    .dataframe thead th {\n",
       "        text-align: right;\n",
       "    }\n",
       "</style>\n",
       "<table border=\"1\" class=\"dataframe\">\n",
       "  <thead>\n",
       "    <tr style=\"text-align: right;\">\n",
       "      <th></th>\n",
       "      <th>metrics</th>\n",
       "    </tr>\n",
       "  </thead>\n",
       "  <tbody>\n",
       "    <tr>\n",
       "      <th>MAE_linear</th>\n",
       "      <td>1.275417e-15</td>\n",
       "    </tr>\n",
       "    <tr>\n",
       "      <th>MSE_linear</th>\n",
       "      <td>2.727610e-30</td>\n",
       "    </tr>\n",
       "    <tr>\n",
       "      <th>RMSE_linear</th>\n",
       "      <td>1.651548e-15</td>\n",
       "    </tr>\n",
       "  </tbody>\n",
       "</table>\n",
       "</div>"
      ],
      "text/plain": [
       "                  metrics\n",
       "MAE_linear   1.275417e-15\n",
       "MSE_linear   2.727610e-30\n",
       "RMSE_linear  1.651548e-15"
      ]
     },
     "execution_count": 19,
     "metadata": {},
     "output_type": "execute_result"
    }
   ],
   "source": [
    "MAE_linear= metrics.mean_absolute_error(y_linear_test, y_linear_pred)\n",
    "MSE_linear=metrics.mean_squared_error(y_linear_test, y_linear_pred)\n",
    "RMSE_linear= np.sqrt(MSE_linear)\n",
    "\n",
    "pd.DataFrame([MAE_linear, MSE_linear, RMSE_linear],\n",
    "             index=['MAE_linear', 'MSE_linear', 'RMSE_linear'], columns=['metrics'])"
   ]
  },
  {
   "cell_type": "code",
   "execution_count": 20,
   "id": "43205166",
   "metadata": {},
   "outputs": [
    {
     "data": {
      "text/plain": [
       "<matplotlib.lines.Line2D at 0x29eaa1ab130>"
      ]
     },
     "execution_count": 20,
     "metadata": {},
     "output_type": "execute_result"
    },
    {
     "data": {
      "image/png": "[encoded data removed]",
      "text/plain": [
       "<Figure size 640x480 with 1 Axes>"
      ]
     },
     "metadata": {},
     "output_type": "display_data"
    }
   ],
   "source": [
    "test_residual= y_linear_test - y_linear_pred\n",
    "\n",
    "sns.scatterplot(x=y_linear_test, y=test_residual)\n",
    "plt.title('Residual Plot - Linear Regression')\n",
    "plt.xlabel('y-test')\n",
    "plt.ylabel('test_residual')\n",
    "plt.axhline(y=0, color='r', ls='--')"
   ]
  },
  {
   "cell_type": "markdown",
   "id": "7a92fae5",
   "metadata": {},
   "source": [
    "#### The residual plot is not normally distributed due to strong multicolinearity as seen above. Hence, linear regression can't be applied."
   ]
  },
  {
   "cell_type": "markdown",
   "id": "e0db3ad7",
   "metadata": {},
   "source": [
    "#### Polynomial Regression"
   ]
  },
  {
   "cell_type": "code",
   "execution_count": 21,
   "id": "48d1d1e1",
   "metadata": {},
   "outputs": [
    {
     "name": "stdout",
     "output_type": "stream",
     "text": [
      "X= (414, 5) Y= (414,)\n"
     ]
    }
   ],
   "source": [
    "print('X=',X.shape, 'Y=', y.shape)"
   ]
  },
  {
   "cell_type": "code",
   "execution_count": 22,
   "id": "b1e7e1ac",
   "metadata": {},
   "outputs": [],
   "source": [
    "X_train, X_test, y_train, y_test = train_test_split(X, y, test_size=0.3, random_state=101)"
   ]
  },
  {
   "cell_type": "code",
   "execution_count": 23,
   "id": "fcae2169",
   "metadata": {},
   "outputs": [],
   "source": [
    "def build_polynomial_models(X_train, y_train, X_test, y_test, max_degree):\n",
    "    \n",
    "    train_RMSE_list = []\n",
    "    test_RMSE_list = []\n",
    " \n",
    "    # runs from degree = 1 to max_degree\n",
    "    for degree in range(1, max_degree+1):\n",
    " \n",
    "        pipeline_steps = [\n",
    "            PolynomialFeatures(degree=degree), \n",
    "            StandardScaler(), \n",
    "            LinearRegression()\n",
    "        ]\n",
    "        pipeline = make_pipeline(*pipeline_steps)\n",
    " \n",
    "        # train the model using X_train and y_train\n",
    "        pipeline.fit(X_train, y_train)\n",
    " \n",
    "        # Predict output for X_train \n",
    "        train_predictions = pipeline.predict(X_train)    \n",
    "        train_RMSE = mean_squared_error(y_train, train_predictions)**0.5\n",
    "        train_RMSE_list.append(train_RMSE)\n",
    " \n",
    "        # Predict output for X_test (unseen data)\n",
    "        test_predictions = pipeline.predict(X_test)    \n",
    "        test_RMSE = mean_squared_error(y_test, test_predictions)**0.5\n",
    "        test_RMSE_list.append(test_RMSE)\n",
    "    \n",
    "    RMSE_df = pd.DataFrame({'Training RMSE': train_RMSE_list, 'Test RMSE': test_RMSE_list}, index=range(1, max_degree+1))\n",
    "    \n",
    "    RMSE_df.index.name = 'Degree'  \n",
    "    \n",
    "    plt.plot(range(1,6), train_RMSE_list[:5], label='Train RMSE')\n",
    "    plt.plot(range(1,6), test_RMSE_list[:5], label='Test RMSE')\n",
    "\n",
    "    plt.xlabel('Polynomial Degree')\n",
    "    plt.ylabel('RMSE')\n",
    "    plt.legend()\n",
    "\n",
    "    return RMSE_df"
   ]
  },
  {
   "cell_type": "code",
   "execution_count": 24,
   "id": "08dde158",
   "metadata": {},
   "outputs": [
    {
     "data": {
      "image/png": "[encoded data removed]",
      "text/plain": [
       "<Figure size 640x480 with 1 Axes>"
      ]
     },
     "metadata": {},
     "output_type": "display_data"
    }
   ],
   "source": [
    "RMSE_df = build_polynomial_models(X_train,y_train,X_test,y_test,12)"
   ]
  },
  {
   "cell_type": "code",
   "execution_count": 25,
   "id": "bab23847",
   "metadata": {},
   "outputs": [
    {
     "data": {
      "text/html": [
       "<div>\n",
       "<style scoped>\n",
       "    .dataframe tbody tr th:only-of-type {\n",
       "        vertical-align: middle;\n",
       "    }\n",
       "\n",
       "    .dataframe tbody tr th {\n",
       "        vertical-align: top;\n",
       "    }\n",
       "\n",
       "    .dataframe thead th {\n",
       "        text-align: right;\n",
       "    }\n",
       "</style>\n",
       "<table border=\"1\" class=\"dataframe\">\n",
       "  <thead>\n",
       "    <tr style=\"text-align: right;\">\n",
       "      <th></th>\n",
       "      <th>Training RMSE</th>\n",
       "      <th>Test RMSE</th>\n",
       "    </tr>\n",
       "    <tr>\n",
       "      <th>Degree</th>\n",
       "      <th></th>\n",
       "      <th></th>\n",
       "    </tr>\n",
       "  </thead>\n",
       "  <tbody>\n",
       "    <tr>\n",
       "      <th>1</th>\n",
       "      <td>1.349571e-15</td>\n",
       "      <td>1.573355e-15</td>\n",
       "    </tr>\n",
       "    <tr>\n",
       "      <th>2</th>\n",
       "      <td>3.497152e-15</td>\n",
       "      <td>3.849001e-15</td>\n",
       "    </tr>\n",
       "    <tr>\n",
       "      <th>3</th>\n",
       "      <td>6.637632e-15</td>\n",
       "      <td>8.330905e-15</td>\n",
       "    </tr>\n",
       "    <tr>\n",
       "      <th>4</th>\n",
       "      <td>1.812144e-14</td>\n",
       "      <td>3.249530e-13</td>\n",
       "    </tr>\n",
       "    <tr>\n",
       "      <th>5</th>\n",
       "      <td>1.172863e-14</td>\n",
       "      <td>7.117475e-12</td>\n",
       "    </tr>\n",
       "    <tr>\n",
       "      <th>6</th>\n",
       "      <td>1.297648e-14</td>\n",
       "      <td>5.381315e-08</td>\n",
       "    </tr>\n",
       "    <tr>\n",
       "      <th>7</th>\n",
       "      <td>7.917478e-15</td>\n",
       "      <td>2.661053e-05</td>\n",
       "    </tr>\n",
       "    <tr>\n",
       "      <th>8</th>\n",
       "      <td>1.667230e-14</td>\n",
       "      <td>7.988568e-05</td>\n",
       "    </tr>\n",
       "    <tr>\n",
       "      <th>9</th>\n",
       "      <td>1.348480e-14</td>\n",
       "      <td>3.394778e-04</td>\n",
       "    </tr>\n",
       "    <tr>\n",
       "      <th>10</th>\n",
       "      <td>1.303077e-14</td>\n",
       "      <td>5.236301e-04</td>\n",
       "    </tr>\n",
       "    <tr>\n",
       "      <th>11</th>\n",
       "      <td>2.694490e-14</td>\n",
       "      <td>1.081255e-03</td>\n",
       "    </tr>\n",
       "    <tr>\n",
       "      <th>12</th>\n",
       "      <td>2.353982e-14</td>\n",
       "      <td>2.148821e-03</td>\n",
       "    </tr>\n",
       "  </tbody>\n",
       "</table>\n",
       "</div>"
      ],
      "text/plain": [
       "        Training RMSE     Test RMSE\n",
       "Degree                             \n",
       "1        1.349571e-15  1.573355e-15\n",
       "2        3.497152e-15  3.849001e-15\n",
       "3        6.637632e-15  8.330905e-15\n",
       "4        1.812144e-14  3.249530e-13\n",
       "5        1.172863e-14  7.117475e-12\n",
       "6        1.297648e-14  5.381315e-08\n",
       "7        7.917478e-15  2.661053e-05\n",
       "8        1.667230e-14  7.988568e-05\n",
       "9        1.348480e-14  3.394778e-04\n",
       "10       1.303077e-14  5.236301e-04\n",
       "11       2.694490e-14  1.081255e-03\n",
       "12       2.353982e-14  2.148821e-03"
      ]
     },
     "execution_count": 25,
     "metadata": {},
     "output_type": "execute_result"
    }
   ],
   "source": [
    "RMSE_df"
   ]
  },
  {
   "cell_type": "markdown",
   "id": "a18f0dff",
   "metadata": {},
   "source": [
    "#### After 3 degrees, Test RMSE is significantly higher than Training RMSE. The model is seen to be overfitting after 3 degrees of polynomial"
   ]
  },
  {
   "cell_type": "markdown",
   "id": "a6aa84c8",
   "metadata": {},
   "source": [
    "#### As seen above, the Train and Test RMSE are good enough to choose the model with 2 degrees of polynomial"
   ]
  },
  {
   "cell_type": "code",
   "execution_count": 26,
   "id": "256733b8",
   "metadata": {},
   "outputs": [
    {
     "data": {
      "text/html": [
       "<div>\n",
       "<style scoped>\n",
       "    .dataframe tbody tr th:only-of-type {\n",
       "        vertical-align: middle;\n",
       "    }\n",
       "\n",
       "    .dataframe tbody tr th {\n",
       "        vertical-align: top;\n",
       "    }\n",
       "\n",
       "    .dataframe thead th {\n",
       "        text-align: right;\n",
       "    }\n",
       "</style>\n",
       "<table border=\"1\" class=\"dataframe\">\n",
       "  <thead>\n",
       "    <tr style=\"text-align: right;\">\n",
       "      <th></th>\n",
       "      <th>metrics</th>\n",
       "    </tr>\n",
       "  </thead>\n",
       "  <tbody>\n",
       "    <tr>\n",
       "      <th>MAE</th>\n",
       "      <td>2.728484e-15</td>\n",
       "    </tr>\n",
       "    <tr>\n",
       "      <th>MSE</th>\n",
       "      <td>1.481481e-29</td>\n",
       "    </tr>\n",
       "    <tr>\n",
       "      <th>test_RMSE</th>\n",
       "      <td>3.849001e-15</td>\n",
       "    </tr>\n",
       "  </tbody>\n",
       "</table>\n",
       "</div>"
      ],
      "text/plain": [
       "                metrics\n",
       "MAE        2.728484e-15\n",
       "MSE        1.481481e-29\n",
       "test_RMSE  3.849001e-15"
      ]
     },
     "execution_count": 26,
     "metadata": {},
     "output_type": "execute_result"
    }
   ],
   "source": [
    "pipeline_steps = [\n",
    "    PolynomialFeatures(degree=2), \n",
    "    StandardScaler(), \n",
    "    LinearRegression()\n",
    "]\n",
    "pipeline = make_pipeline(*pipeline_steps)\n",
    "\n",
    "# train the model using X_train and y_train\n",
    "pipeline.fit(X_train, y_train)\n",
    "\n",
    "# Predict output for X_test (unseen data)\n",
    "test_predictions = pipeline.predict(X_test)    \n",
    "\n",
    "test_MAE = metrics.mean_absolute_error(y_test,test_predictions)\n",
    "test_MSE = metrics.mean_squared_error(y_test,test_predictions)\n",
    "test_RMSE = np.sqrt(test_MSE)\n",
    "\n",
    "pd.DataFrame([test_MAE, test_MSE, test_RMSE],\n",
    "             index=['MAE', 'MSE', 'test_RMSE'], columns=['metrics'])"
   ]
  },
  {
   "cell_type": "code",
   "execution_count": null,
   "id": "f5c12da7",
   "metadata": {},
   "outputs": [],
   "source": []
  }
 ],
 "metadata": {
  "kernelspec": {
   "display_name": "Python 3 (ipykernel)",
   "language": "python",
   "name": "python3"
  },
  "language_info": {
   "codemirror_mode": {
    "name": "ipython",
    "version": 3
   },
   "file_extension": ".py",
   "mimetype": "text/x-python",
   "name": "python",
   "nbconvert_exporter": "python",
   "pygments_lexer": "ipython3",
   "version": "3.9.13"
  }
 },
 "nbformat": 4,
 "nbformat_minor": 5
}
